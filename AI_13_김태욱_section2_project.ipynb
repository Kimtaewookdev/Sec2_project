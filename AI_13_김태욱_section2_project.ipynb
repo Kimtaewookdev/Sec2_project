{
  "nbformat": 4,
  "nbformat_minor": 0,
  "metadata": {
    "colab": {
      "name": "AI_13_김태욱_section2_project.ipynb",
      "provenance": [],
      "mount_file_id": "1RVSBLYPYRsJXGv9JS-qqoF9YJk9RQ6TP",
      "authorship_tag": "ABX9TyPXq4X2lHltMNqS0yL2Bam5",
      "include_colab_link": true
    },
    "kernelspec": {
      "name": "python3",
      "display_name": "Python 3"
    },
    "language_info": {
      "name": "python"
    },
    "accelerator": "GPU"
  },
  "cells": [
    {
      "cell_type": "markdown",
      "metadata": {
        "id": "view-in-github",
        "colab_type": "text"
      },
      "source": [
        "<a href=\"https://colab.research.google.com/github/Kimtaewookdev/Sec2_project/blob/main/AI_13_%EA%B9%80%ED%83%9C%EC%9A%B1_section2_project.ipynb\" target=\"_parent\"><img src=\"https://colab.research.google.com/assets/colab-badge.svg\" alt=\"Open In Colab\"/></a>"
      ]
    },
    {
      "cell_type": "markdown",
      "source": [
        "## AI_13 Section2 Project \n",
        "# League of Legends 승패 예측\n",
        "\n",
        "### 1. 데이터 선정 이유 및 문제 정의\n",
        "\n"
      ],
      "metadata": {
        "id": "Th9LiYKlMMEn"
      }
    },
    {
      "cell_type": "code",
      "execution_count": null,
      "metadata": {
        "id": "15f6dExQDfbW"
      },
      "outputs": [],
      "source": [
        "!pip install category_encoders==2.*\n",
        "!pip install eli5\n",
        "!pip install --upgrade pandas-profiling\n",
        "!pip install pdpbox\n",
        "!pip install shap\n",
        "!pip install --upgrade xgboost\n",
        "!pip install --upgrade jinja2"
      ]
    },
    {
      "cell_type": "code",
      "source": [
        "import xgboost\n",
        "import warnings\n",
        "\n",
        "import pandas as pd\n",
        "import numpy as np\n",
        "import matplotlib.pyplot as plt\n",
        "import seaborn as sns\n",
        "from scipy import stats\n",
        "from pandas_profiling import profile_report\n",
        "\n",
        "from sklearn.pipeline import make_pipeline\n",
        "from sklearn.ensemble import RandomForestClassifier\n",
        "from sklearn.model_selection import train_test_split, RandomizedSearchCV\n",
        "from sklearn.metrics import accuracy_score, f1_score, classification_report\n",
        "from sklearn.impute import SimpleImputer\n",
        "from category_encoders import OrdinalEncoder\n",
        "from scipy.stats import uniform, randint\n",
        "\n",
        "from xgboost import XGBClassifier\n",
        "from sklearn.model_selection import GridSearchCV\n",
        "\n",
        "\n",
        "\n",
        "warnings.filterwarnings(\"ignore\")\n",
        "xgboost.set_config(verbosity=0)"
      ],
      "metadata": {
        "id": "9XWK5ZVEMCf1"
      },
      "execution_count": 179,
      "outputs": []
    },
    {
      "cell_type": "markdown",
      "source": [
        "### 2. EDA"
      ],
      "metadata": {
        "id": "yozT5E9DMKbK"
      }
    },
    {
      "cell_type": "code",
      "source": [
        "df = pd.read_csv('/content/drive/MyDrive/sec2 ds/lol_na_s11_highelo.csv')\n",
        "\n",
        "# 불필요 칼럼 제거\n",
        "\n",
        "dc1 = df.columns[['veteran' in x for x in df.columns]].tolist()\n",
        "dc2 = df.columns[['inactive' in x for x in df.columns]].tolist()\n",
        "dc3 = df.columns[['freshblood' in x for x in df.columns]].tolist()\n",
        "dc4 = df.columns[['hotstreak' in x for x in df.columns]].tolist()\n",
        "dc5 = df.columns[['wins' in x for x in df.columns]].tolist()\n",
        "dc6 = df.columns[['losses' in x for x in df.columns]].tolist()\n",
        "#dc7 = df.columns[['avg_game_time' in x for x in df.columns]].tolist()\n",
        "\n",
        "dc = dc1 + dc2 + dc3 + dc4 + dc5 + dc6 #+ dc7\n",
        "\n",
        "wr = df.copy()\n",
        "\n",
        "wr.drop(dc, axis = 1, inplace = True)"
      ],
      "metadata": {
        "id": "CjQUScKRtmCu"
      },
      "execution_count": 110,
      "outputs": []
    },
    {
      "cell_type": "code",
      "source": [
        "# 중복 열 확인\n",
        "wr.duplicated(['gameid']).value_counts()"
      ],
      "metadata": {
        "colab": {
          "base_uri": "https://localhost:8080/"
        },
        "id": "Fry1d-eXhCxQ",
        "outputId": "453b35d7-d777-4ea2-b5e7-20a8a891b55c"
      },
      "execution_count": 111,
      "outputs": [
        {
          "output_type": "execute_result",
          "data": {
            "text/plain": [
              "False    2088\n",
              "dtype: int64"
            ]
          },
          "metadata": {},
          "execution_count": 111
        }
      ]
    },
    {
      "cell_type": "code",
      "source": [
        "wr.drop('gameid', axis = 1, inplace = True)"
      ],
      "metadata": {
        "id": "QmSd7WpWhtYr"
      },
      "execution_count": 112,
      "outputs": []
    },
    {
      "cell_type": "code",
      "source": [
        "# 티어, 랭크, lp = lp 포인트로 정리\n",
        "# 결측치는 Simpleimputer mean으로 처리\n",
        "\n",
        "def trans_rank(wr):\n",
        "  team = [100, 200]\n",
        "  position = ['TOP', 'JUNGLE', 'MIDDLE', 'BOTTOM', 'UTILITY']\n",
        "  for t in team:\n",
        "    for p in position:\n",
        "      col = f'{t}_' + p + '_rank'\n",
        "      wr[col][(wr[col] == 'I')] = -100\n",
        "      wr[col][(wr[col] == 'II')] = -200\n",
        "      wr[col][(wr[col] == 'III')] = -300\n",
        "      wr[col][(wr[col] == 'IV')] = -400\n",
        "#      wr[col].fillna(0, inplace = True)\n",
        "\n",
        "def trans_tier(wr):\n",
        "  team = [100, 200]\n",
        "  position = ['TOP', 'JUNGLE', 'MIDDLE', 'BOTTOM', 'UTILITY']\n",
        "  for t in team:\n",
        "    for p in position:\n",
        "      col = f'{t}_' + p + '_tier'\n",
        "      wr[col][(wr[col] == 'CHALLENGER')] = 100\n",
        "      wr[col][(wr[col] == 'GRANDMASTER')] = 100\n",
        "      wr[col][(wr[col] == 'MASTER')] = 100\n",
        "      wr[col][(wr[col] == 'DIAMOND')] = 0\n",
        "      wr[col][(wr[col] == 'PLATINUM')] = -400\n",
        "      wr[col][(wr[col] == 'GOLD')] = -800\n",
        "      wr[col][(wr[col] == 'SILVER')] = -1200\n",
        "#      wr[col].fillna(0, inplace = True)\n",
        "\n",
        "def trans_lp(wr):\n",
        "  team = [100, 200]\n",
        "  position = ['TOP', 'JUNGLE', 'MIDDLE', 'BOTTOM', 'UTILITY']\n",
        "  for t in team:\n",
        "    for p in position:\n",
        "      tier = f'{t}_' + p + '_tier'\n",
        "      rank = f'{t}_' + p + '_rank'\n",
        "      lp = f'{t}_' + p + '_lp'\n",
        "#      wr[lp].fillna(0, inplace = True)\n",
        "      wr[lp] = wr[tier] + wr[rank] + wr[lp]\n",
        "      wr.drop([tier, rank], axis = 1, inplace = True)\n",
        "\n",
        "trans_rank(wr)\n",
        "trans_tier(wr)\n",
        "trans_lp(wr)\n",
        "\n",
        "wr.shape"
      ],
      "metadata": {
        "colab": {
          "base_uri": "https://localhost:8080/"
        },
        "id": "C5i82bUb9TYs",
        "outputId": "4f231752-c1bc-401d-c5e7-d615087b6cd6"
      },
      "execution_count": 113,
      "outputs": [
        {
          "output_type": "execute_result",
          "data": {
            "text/plain": [
              "(2088, 151)"
            ]
          },
          "metadata": {},
          "execution_count": 113
        }
      ]
    },
    {
      "cell_type": "code",
      "source": [
        "# 최근 10 게임 포지션 칼럼을 가장 많이 플레이한 포지션 하나로 정리\n",
        "\n",
        "def mode_is(list):\n",
        "  return stats.mode(list)[0][0]\n",
        "\n",
        "def most_position(wr):\n",
        "  team = [100, 200]\n",
        "  position = ['TOP', 'JUNGLE', 'MIDDLE', 'BOTTOM', 'UTILITY']\n",
        "  for t in team:\n",
        "    for p in position:\n",
        "      col = f'{t}_' + p + '_positions_played'\n",
        "      most_col = f'{t}_' + p + '_most_played'\n",
        "      wr[col] = wr[col].str.split().apply(mode_is)\n",
        "      wr.rename(columns={col : most_col}, inplace = True)\n",
        "\n",
        "most_position(wr)"
      ],
      "metadata": {
        "id": "Z3hgpEzlZ9oB"
      },
      "execution_count": 114,
      "outputs": []
    },
    {
      "cell_type": "code",
      "source": [
        "# 데이터를 100(Blue), 200(Red) 팀으로 나누어서 한 팀의 정보만 담은 데이터셋으로 변환\n",
        "\n",
        "wr_col100 = wr.columns[['100' in x for x in wr.columns]].tolist()\n",
        "wr_col200 = wr.columns[['200' in x for x in wr.columns]].tolist()\n",
        "\n",
        "wr_blue = wr[wr_col100].copy()\n",
        "wr_red = wr[wr_col200].copy()\n",
        "\n",
        "wt = 'winning_team'\n",
        "\n",
        "wr_blue[wt] = wr[wt]\n",
        "wr_red[wt] = wr[wt]\n",
        "\n",
        "wr_blue['Team'] = 'Blue'\n",
        "wr_red['Team'] = 'Red'\n",
        "\n",
        "# 'Result' column은 0 패배 1 승리\n",
        "\n",
        "wr_blue['Result'] = 0\n",
        "wr_blue['Result'][wr_blue[wt] == 100] = 1\n",
        "\n",
        "wr_red['Result'] = 0\n",
        "wr_red['Result'][wr_red[wt] == 200] = 1\n",
        "\n",
        "wr_blue.drop(wt, axis = 1, inplace = True)\n",
        "wr_red.drop(wt, axis = 1, inplace = True)"
      ],
      "metadata": {
        "id": "EgaNbcsC-yL8"
      },
      "execution_count": 117,
      "outputs": []
    },
    {
      "cell_type": "code",
      "source": [
        "# colunm 명 변경\n",
        "\n",
        "def remove_100(x):\n",
        "  if '100' in x:\n",
        "    x.remove('100')\n",
        "  str = '_'.join(x)\n",
        "  return str\n",
        "\n",
        "col_united = wr_blue.columns.str.split('_').map(remove_100)\n",
        "\n",
        "wr_blue.columns = col_united\n",
        "wr_red.columns = col_united\n",
        "\n",
        "# 병합\n",
        "\n",
        "qw = pd.concat([wr_blue, wr_red], ignore_index=True)"
      ],
      "metadata": {
        "id": "Urq_dPmw5eKl"
      },
      "execution_count": 119,
      "outputs": []
    },
    {
      "cell_type": "code",
      "source": [
        "# 플레이어가 한 번도 해당 포지션을 해본 적이 없는 경우 게임 수, 승률 0 으로 처리\n",
        "# 처음 하는 챔피언의 승률 0 으로 처리 (champ_games_played = 0 일때 champ_winrate가 결측치)\n",
        "\n",
        "#na_qw = qw[qw.columns[['champ' in x for x in qw.columns]]]\n",
        "#na_col = na_qw.isna().sum(axis = 1)[na_qw.isna().sum(axis = 1) != 0].index\n",
        "#na_qw.iloc[na_col]\n",
        "\n",
        "qw_col_role = qw.columns[['role' in x for x in qw.columns]].tolist()\n",
        "qw_col_champ = qw.columns[['champ' in x for x in qw.columns]].tolist()\n",
        "\n",
        "for col in qw_col_role + qw_col_champ:\n",
        "  qw[col].fillna(0, inplace = True)"
      ],
      "metadata": {
        "id": "BxN33_tBKotk"
      },
      "execution_count": 122,
      "outputs": []
    },
    {
      "cell_type": "code",
      "source": [
        "# 이상치 처리, 평균 게임 시간, 평균 분당 골드획득량에 확실한 이상치 존재\n",
        "# 게임 시간에는 80분 이상의 데이터, 골드획득량은 기본 획득량이 있음에도 100G 이하의 획득량\n",
        "# 분당 가한 피해량, 오브젝트 피해량의 경우 지나치게 작은 데이터가 있지만 해당 플레이어들의 lp가 낮아 이상치가 아니라고 판단\n",
        "# 고의로 트롤링하는 유저의 가능성이 있음.\n",
        "# 결측치로 처리해서 SimpleImputer로 mean으로 채움.\n",
        "\n",
        "def outlier_remove(qw):\n",
        "  position = ['TOP', 'JUNGLE', 'MIDDLE', 'BOTTOM', 'UTILITY']\n",
        "  for p in position:\n",
        "    time = p + '_avg_game_time'\n",
        "    gold = p + '_goldpm'\n",
        "    qw[time][qw[time] > 80] = np.nan\n",
        "    qw[gold][qw[gold] < 100] = np.nan\n",
        "\n",
        "outlier_remove(qw)\n",
        "\n",
        "qw.info()"
      ],
      "metadata": {
        "colab": {
          "base_uri": "https://localhost:8080/"
        },
        "id": "sFXVwQ7z-mcd",
        "outputId": "ee1b8fd4-2c4e-43e0-a5e5-30f478fe1617"
      },
      "execution_count": 123,
      "outputs": [
        {
          "output_type": "stream",
          "name": "stdout",
          "text": [
            "<class 'pandas.core.frame.DataFrame'>\n",
            "RangeIndex: 4176 entries, 0 to 4175\n",
            "Data columns (total 77 columns):\n",
            " #   Column                      Non-Null Count  Dtype  \n",
            "---  ------                      --------------  -----  \n",
            " 0   TOP_avg_game_time           4142 non-null   float64\n",
            " 1   TOP_most_played             4176 non-null   object \n",
            " 2   TOP_avg_kda                 4176 non-null   float64\n",
            " 3   TOP_avg_kp                  4176 non-null   float64\n",
            " 4   TOP_avg_vision              4176 non-null   float64\n",
            " 5   TOP_avg_cs                  4176 non-null   float64\n",
            " 6   TOP_goldpm                  4142 non-null   float64\n",
            " 7   TOP_dmgpm                   4176 non-null   float64\n",
            " 8   TOP_dmg_to_obj_pm           4176 non-null   float64\n",
            " 9   TOP_wr                      4176 non-null   float64\n",
            " 10  TOP_lp                      3926 non-null   object \n",
            " 11  TOP_role_total_played       4176 non-null   float64\n",
            " 12  TOP_role_wr                 4176 non-null   float64\n",
            " 13  TOP_champ_games_played      4176 non-null   int64  \n",
            " 14  TOP_champ_winrate           4176 non-null   float64\n",
            " 15  JUNGLE_avg_game_time        4152 non-null   float64\n",
            " 16  JUNGLE_most_played          4176 non-null   object \n",
            " 17  JUNGLE_avg_kda              4176 non-null   float64\n",
            " 18  JUNGLE_avg_kp               4176 non-null   float64\n",
            " 19  JUNGLE_avg_vision           4176 non-null   float64\n",
            " 20  JUNGLE_avg_cs               4176 non-null   float64\n",
            " 21  JUNGLE_goldpm               4152 non-null   float64\n",
            " 22  JUNGLE_dmgpm                4176 non-null   float64\n",
            " 23  JUNGLE_dmg_to_obj_pm        4176 non-null   float64\n",
            " 24  JUNGLE_wr                   4176 non-null   float64\n",
            " 25  JUNGLE_lp                   3901 non-null   object \n",
            " 26  JUNGLE_role_total_played    4176 non-null   float64\n",
            " 27  JUNGLE_role_wr              4176 non-null   float64\n",
            " 28  JUNGLE_champ_games_played   4176 non-null   int64  \n",
            " 29  JUNGLE_champ_winrate        4176 non-null   float64\n",
            " 30  MIDDLE_avg_game_time        4158 non-null   float64\n",
            " 31  MIDDLE_most_played          4176 non-null   object \n",
            " 32  MIDDLE_avg_kda              4176 non-null   float64\n",
            " 33  MIDDLE_avg_kp               4176 non-null   float64\n",
            " 34  MIDDLE_avg_vision           4176 non-null   float64\n",
            " 35  MIDDLE_avg_cs               4176 non-null   float64\n",
            " 36  MIDDLE_goldpm               4158 non-null   float64\n",
            " 37  MIDDLE_dmgpm                4176 non-null   float64\n",
            " 38  MIDDLE_dmg_to_obj_pm        4176 non-null   float64\n",
            " 39  MIDDLE_wr                   4176 non-null   float64\n",
            " 40  MIDDLE_lp                   3913 non-null   object \n",
            " 41  MIDDLE_role_total_played    4176 non-null   float64\n",
            " 42  MIDDLE_role_wr              4176 non-null   float64\n",
            " 43  MIDDLE_champ_games_played   4176 non-null   int64  \n",
            " 44  MIDDLE_champ_winrate        4176 non-null   float64\n",
            " 45  BOTTOM_avg_game_time        4140 non-null   float64\n",
            " 46  BOTTOM_most_played          4176 non-null   object \n",
            " 47  BOTTOM_avg_kda              4176 non-null   float64\n",
            " 48  BOTTOM_avg_kp               4176 non-null   float64\n",
            " 49  BOTTOM_avg_vision           4176 non-null   float64\n",
            " 50  BOTTOM_avg_cs               4176 non-null   float64\n",
            " 51  BOTTOM_goldpm               4140 non-null   float64\n",
            " 52  BOTTOM_dmgpm                4176 non-null   float64\n",
            " 53  BOTTOM_dmg_to_obj_pm        4176 non-null   float64\n",
            " 54  BOTTOM_wr                   4176 non-null   float64\n",
            " 55  BOTTOM_lp                   3930 non-null   object \n",
            " 56  BOTTOM_role_total_played    4176 non-null   float64\n",
            " 57  BOTTOM_role_wr              4176 non-null   float64\n",
            " 58  BOTTOM_champ_games_played   4176 non-null   int64  \n",
            " 59  BOTTOM_champ_winrate        4176 non-null   float64\n",
            " 60  UTILITY_avg_game_time       4161 non-null   float64\n",
            " 61  UTILITY_most_played         4176 non-null   object \n",
            " 62  UTILITY_avg_kda             4176 non-null   float64\n",
            " 63  UTILITY_avg_kp              4176 non-null   float64\n",
            " 64  UTILITY_avg_vision          4176 non-null   float64\n",
            " 65  UTILITY_avg_cs              4176 non-null   float64\n",
            " 66  UTILITY_goldpm              4161 non-null   float64\n",
            " 67  UTILITY_dmgpm               4176 non-null   float64\n",
            " 68  UTILITY_dmg_to_obj_pm       4176 non-null   float64\n",
            " 69  UTILITY_wr                  4176 non-null   float64\n",
            " 70  UTILITY_lp                  3924 non-null   object \n",
            " 71  UTILITY_role_total_played   4176 non-null   float64\n",
            " 72  UTILITY_role_wr             4176 non-null   float64\n",
            " 73  UTILITY_champ_games_played  4176 non-null   int64  \n",
            " 74  UTILITY_champ_winrate       4176 non-null   float64\n",
            " 75  Team                        4176 non-null   object \n",
            " 76  Result                      4176 non-null   int64  \n",
            "dtypes: float64(60), int64(6), object(11)\n",
            "memory usage: 2.5+ MB\n"
          ]
        }
      ]
    },
    {
      "cell_type": "code",
      "source": [
        "#pr = qw.profile_report()\n",
        "#pr.to_file('pr_report.html')"
      ],
      "metadata": {
        "id": "ANeL6usj4J6H"
      },
      "execution_count": 10,
      "outputs": []
    },
    {
      "cell_type": "code",
      "source": [
        "# 훈련 데이터, 테스트 데이터 분리\n",
        "\n",
        "target = 'Result'\n",
        "\n",
        "X = qw.drop(target, axis = 1)\n",
        "y = qw[target]\n",
        "\n",
        "X_train, X_test, y_train, y_test = train_test_split(X, y, test_size=0.2, random_state=13)\n",
        "\n",
        "X_train.shape"
      ],
      "metadata": {
        "colab": {
          "base_uri": "https://localhost:8080/"
        },
        "id": "QpvOTGY3ihs_",
        "outputId": "f5b26111-87b2-48a0-d289-a531bd5a041c"
      },
      "execution_count": 124,
      "outputs": [
        {
          "output_type": "execute_result",
          "data": {
            "text/plain": [
              "(3340, 76)"
            ]
          },
          "metadata": {},
          "execution_count": 124
        }
      ]
    },
    {
      "cell_type": "code",
      "source": [
        "# 시각화"
      ],
      "metadata": {
        "id": "nzUUlcFyiH1i"
      },
      "execution_count": 12,
      "outputs": []
    },
    {
      "cell_type": "markdown",
      "source": [
        "### 3. 모델링 및 모델 해석"
      ],
      "metadata": {
        "id": "sFPsgxli33lm"
      }
    },
    {
      "cell_type": "code",
      "source": [
        "# baseline = 0, score = 0.501796\n",
        "\n",
        "y_train.value_counts(normalize = True)"
      ],
      "metadata": {
        "colab": {
          "base_uri": "https://localhost:8080/"
        },
        "id": "ke3BjvmHjm0u",
        "outputId": "c94293cc-266e-45d9-d408-dc1f4b88a003"
      },
      "execution_count": 129,
      "outputs": [
        {
          "output_type": "execute_result",
          "data": {
            "text/plain": [
              "1    0.501796\n",
              "0    0.498204\n",
              "Name: Result, dtype: float64"
            ]
          },
          "metadata": {},
          "execution_count": 129
        }
      ]
    },
    {
      "cell_type": "code",
      "source": [
        "pipe = make_pipeline(\n",
        "    OrdinalEncoder()\n",
        "    , SimpleImputer(strategy='mean')\n",
        "    , RandomForestClassifier(n_estimators=500, n_jobs=-1)\n",
        ")\n",
        "\n",
        "dists = {\n",
        "    'randomforestclassifier__max_features': uniform(0, 1)\n",
        "    , 'randomforestclassifier__min_samples_leaf': randint(1,30)\n",
        "    }\n",
        "\n",
        "clf = RandomizedSearchCV(\n",
        "    estimator = pipe\n",
        "    , param_distributions = dists\n",
        "    , scoring='accuracy'\n",
        "    , cv = 4\n",
        "    , n_iter = 50\n",
        "    , n_jobs = -1\n",
        "    )\n",
        "\n",
        "clf.fit(X_train, y_train)\n",
        "print(\"최적 파라미터 :\", clf.best_params_)\n",
        "print(\"정확도 :\", clf.best_score_)\n",
        "\n",
        "model = clf.best_estimator_\n",
        "\n",
        "y_pred = model.predict(X_test)\n",
        "\n",
        "print(classification_report(y_test, y_pred))"
      ],
      "metadata": {
        "colab": {
          "base_uri": "https://localhost:8080/"
        },
        "id": "5vZHRqxsiLjp",
        "outputId": "407d5e89-b87c-423c-c651-8de747727cc5"
      },
      "execution_count": 128,
      "outputs": [
        {
          "output_type": "stream",
          "name": "stdout",
          "text": [
            "최적 파라미터 : {'randomforestclassifier__max_features': 0.14351195259782656, 'randomforestclassifier__min_samples_leaf': 11}\n",
            "정확도 : 0.7883233532934133\n",
            "              precision    recall  f1-score   support\n",
            "\n",
            "           0       0.79      0.83      0.81       424\n",
            "           1       0.82      0.78      0.80       412\n",
            "\n",
            "    accuracy                           0.81       836\n",
            "   macro avg       0.81      0.80      0.80       836\n",
            "weighted avg       0.81      0.81      0.80       836\n",
            "\n"
          ]
        }
      ]
    },
    {
      "cell_type": "code",
      "source": [
        "# xgboost\n",
        "\n",
        "X_xgb, X_val, y_xgb, y_val = train_test_split(X_train, y_train, test_size=0.2, random_state=13)\n",
        "\n",
        "preprocess = make_pipeline(\n",
        "    OrdinalEncoder()\n",
        "    , SimpleImputer(strategy='mean')\n",
        ")\n",
        "\n",
        "X_xgb_pre = preprocess.fit_transform(X_xgb)\n",
        "X_val_pre = preprocess.transform(X_val)\n",
        "X_test_pre = preprocess.transform(X_test)\n",
        "\n",
        "eval_set = [(X_xgb_pre, y_xgb), (X_val_pre, y_val)]\n",
        "\n",
        "model_xgb = XGBClassifier(n_estimators = 2000\n",
        "                          , verbosity = 0\n",
        "                          , objective = 'binary:logistic'\n",
        "                          , tree_method='gpu_hist'\n",
        "                          , gpu_id=0\n",
        "                          , sub_sample = 0.7\n",
        "                          , sampling_method = 'gradient_based' \n",
        "                          )\n",
        "\n",
        "param_grid = {'learning_rate' : [0.01, 0.05, 0.075, 0.1, 0.2]\n",
        "              , 'max_depth' : [4, 5, 6, 7, 8, 9]\n",
        "              , 'min_child_weight' : [1, 2, 3]\n",
        "              }\n",
        "\n",
        "fit_params = {'eval_set' : eval_set\n",
        "              , 'eval_metric' : 'error'\n",
        "              , 'early_stopping_rounds' : 100\n",
        "              , 'verbose' : 0\n",
        "              }\n",
        "\n",
        "gcv = GridSearchCV(model_xgb, param_grid = param_grid, cv = 5)\n",
        "\n",
        "gcv.fit(X_xgb_pre, y_xgb, **fit_params)\n",
        "\n",
        "# model_xgb.fit(X_xgb_pre, y_xgb, eval_set=eval_set, eval_metric='error', early_stopping_rounds = 200)"
      ],
      "metadata": {
        "id": "3FAn9eerNUQR"
      },
      "execution_count": null,
      "outputs": []
    },
    {
      "cell_type": "code",
      "source": [
        "model_xgb = gcv.best_estimator_\n",
        "\n",
        "y_pred_xgb = model_xgb.predict(X_test_pre)\n",
        "\n",
        "print(classification_report(y_test, y_pred_xgb))"
      ],
      "metadata": {
        "colab": {
          "base_uri": "https://localhost:8080/"
        },
        "id": "rtfjJCKchVwu",
        "outputId": "68a6e609-c99e-4361-b497-d76ba4cd155f"
      },
      "execution_count": 177,
      "outputs": [
        {
          "output_type": "stream",
          "name": "stdout",
          "text": [
            "              precision    recall  f1-score   support\n",
            "\n",
            "           0       0.82      0.82      0.82       424\n",
            "           1       0.81      0.81      0.81       412\n",
            "\n",
            "    accuracy                           0.81       836\n",
            "   macro avg       0.81      0.81      0.81       836\n",
            "weighted avg       0.81      0.81      0.81       836\n",
            "\n"
          ]
        }
      ]
    }
  ]
}